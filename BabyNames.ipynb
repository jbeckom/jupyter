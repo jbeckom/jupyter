{
 "cells": [
  {
   "cell_type": "code",
   "execution_count": 19,
   "id": "68ba8e1c-e050-4b1a-910c-973e32e98daf",
   "metadata": {},
   "outputs": [],
   "source": [
    "import pandas as pd"
   ]
  },
  {
   "cell_type": "code",
   "execution_count": 13,
   "id": "7428364c-559b-4f80-9911-2e24275645c6",
   "metadata": {},
   "outputs": [],
   "source": [
    "ubn = pd.read_csv('us_baby_names.csv')"
   ]
  },
  {
   "cell_type": "markdown",
   "id": "0ae77f62-6578-4caf-9ed1-20c82166a090",
   "metadata": {},
   "source": [
    "What were the five most popular baby naems in 2014 in the US?"
   ]
  },
  {
   "cell_type": "code",
   "execution_count": 11,
   "id": "e821ab3f-e327-4f86-ac56-fba67046025d",
   "metadata": {},
   "outputs": [],
   "source": [
    "ubn_2014 = ubn.loc[ubn['Year']==2014,:]"
   ]
  },
  {
   "cell_type": "code",
   "execution_count": 13,
   "id": "b5ad8276-0e26-43bb-b7d3-95347432696f",
   "metadata": {},
   "outputs": [],
   "source": [
    "ubn_2014_sorted = ubn_2014.sort_values('Count',ascending=False)"
   ]
  },
  {
   "cell_type": "code",
   "execution_count": 15,
   "id": "4852fbaf-b7e5-4740-9041-25402690544e",
   "metadata": {},
   "outputs": [
    {
     "data": {
      "text/html": [
       "<div>\n",
       "<style scoped>\n",
       "    .dataframe tbody tr th:only-of-type {\n",
       "        vertical-align: middle;\n",
       "    }\n",
       "\n",
       "    .dataframe tbody tr th {\n",
       "        vertical-align: top;\n",
       "    }\n",
       "\n",
       "    .dataframe thead th {\n",
       "        text-align: right;\n",
       "    }\n",
       "</style>\n",
       "<table border=\"1\" class=\"dataframe\">\n",
       "  <thead>\n",
       "    <tr style=\"text-align: right;\">\n",
       "      <th></th>\n",
       "      <th>Id</th>\n",
       "      <th>Name</th>\n",
       "      <th>Year</th>\n",
       "      <th>Gender</th>\n",
       "      <th>Count</th>\n",
       "    </tr>\n",
       "  </thead>\n",
       "  <tbody>\n",
       "    <tr>\n",
       "      <th>1792389</th>\n",
       "      <td>1792390</td>\n",
       "      <td>Emma</td>\n",
       "      <td>2014</td>\n",
       "      <td>F</td>\n",
       "      <td>20799</td>\n",
       "    </tr>\n",
       "    <tr>\n",
       "      <th>1792390</th>\n",
       "      <td>1792391</td>\n",
       "      <td>Olivia</td>\n",
       "      <td>2014</td>\n",
       "      <td>F</td>\n",
       "      <td>19674</td>\n",
       "    </tr>\n",
       "    <tr>\n",
       "      <th>1811456</th>\n",
       "      <td>1811457</td>\n",
       "      <td>Noah</td>\n",
       "      <td>2014</td>\n",
       "      <td>M</td>\n",
       "      <td>19144</td>\n",
       "    </tr>\n",
       "    <tr>\n",
       "      <th>1792391</th>\n",
       "      <td>1792392</td>\n",
       "      <td>Sophia</td>\n",
       "      <td>2014</td>\n",
       "      <td>F</td>\n",
       "      <td>18490</td>\n",
       "    </tr>\n",
       "    <tr>\n",
       "      <th>1811457</th>\n",
       "      <td>1811458</td>\n",
       "      <td>Liam</td>\n",
       "      <td>2014</td>\n",
       "      <td>M</td>\n",
       "      <td>18342</td>\n",
       "    </tr>\n",
       "  </tbody>\n",
       "</table>\n",
       "</div>"
      ],
      "text/plain": [
       "              Id    Name  Year Gender  Count\n",
       "1792389  1792390    Emma  2014      F  20799\n",
       "1792390  1792391  Olivia  2014      F  19674\n",
       "1811456  1811457    Noah  2014      M  19144\n",
       "1792391  1792392  Sophia  2014      F  18490\n",
       "1811457  1811458    Liam  2014      M  18342"
      ]
     },
     "execution_count": 15,
     "metadata": {},
     "output_type": "execute_result"
    }
   ],
   "source": [
    "ubn_2014_sorted.iloc[0:5]"
   ]
  },
  {
   "cell_type": "markdown",
   "id": "ad33ef89-0098-4229-b201-aa84e6ff351c",
   "metadata": {},
   "source": [
    "What were the five most popular baby names in 2014, in California?"
   ]
  },
  {
   "cell_type": "code",
   "execution_count": 2,
   "id": "845d02e6-74af-4281-8f24-fe80981bfe81",
   "metadata": {},
   "outputs": [],
   "source": [
    "sbn = pd.read_csv('state_baby_names.csv')"
   ]
  },
  {
   "cell_type": "code",
   "execution_count": 25,
   "id": "7d09c970-66be-4644-980b-a3138acd3f13",
   "metadata": {},
   "outputs": [
    {
     "data": {
      "text/html": [
       "<div>\n",
       "<style scoped>\n",
       "    .dataframe tbody tr th:only-of-type {\n",
       "        vertical-align: middle;\n",
       "    }\n",
       "\n",
       "    .dataframe tbody tr th {\n",
       "        vertical-align: top;\n",
       "    }\n",
       "\n",
       "    .dataframe thead th {\n",
       "        text-align: right;\n",
       "    }\n",
       "</style>\n",
       "<table border=\"1\" class=\"dataframe\">\n",
       "  <thead>\n",
       "    <tr style=\"text-align: right;\">\n",
       "      <th></th>\n",
       "      <th>Id</th>\n",
       "      <th>Name</th>\n",
       "      <th>Year</th>\n",
       "      <th>Gender</th>\n",
       "      <th>State</th>\n",
       "      <th>Count</th>\n",
       "    </tr>\n",
       "  </thead>\n",
       "  <tbody>\n",
       "    <tr>\n",
       "      <th>561495</th>\n",
       "      <td>561496</td>\n",
       "      <td>Sophia</td>\n",
       "      <td>2014</td>\n",
       "      <td>F</td>\n",
       "      <td>CA</td>\n",
       "      <td>3162</td>\n",
       "    </tr>\n",
       "    <tr>\n",
       "      <th>707311</th>\n",
       "      <td>707312</td>\n",
       "      <td>Noah</td>\n",
       "      <td>2014</td>\n",
       "      <td>M</td>\n",
       "      <td>CA</td>\n",
       "      <td>2761</td>\n",
       "    </tr>\n",
       "    <tr>\n",
       "      <th>561496</th>\n",
       "      <td>561497</td>\n",
       "      <td>Isabella</td>\n",
       "      <td>2014</td>\n",
       "      <td>F</td>\n",
       "      <td>CA</td>\n",
       "      <td>2705</td>\n",
       "    </tr>\n",
       "    <tr>\n",
       "      <th>707312</th>\n",
       "      <td>707313</td>\n",
       "      <td>Jacob</td>\n",
       "      <td>2014</td>\n",
       "      <td>M</td>\n",
       "      <td>CA</td>\n",
       "      <td>2692</td>\n",
       "    </tr>\n",
       "    <tr>\n",
       "      <th>561497</th>\n",
       "      <td>561498</td>\n",
       "      <td>Emma</td>\n",
       "      <td>2014</td>\n",
       "      <td>F</td>\n",
       "      <td>CA</td>\n",
       "      <td>2662</td>\n",
       "    </tr>\n",
       "  </tbody>\n",
       "</table>\n",
       "</div>"
      ],
      "text/plain": [
       "            Id      Name  Year Gender State  Count\n",
       "561495  561496    Sophia  2014      F    CA   3162\n",
       "707311  707312      Noah  2014      M    CA   2761\n",
       "561496  561497  Isabella  2014      F    CA   2705\n",
       "707312  707313     Jacob  2014      M    CA   2692\n",
       "561497  561498      Emma  2014      F    CA   2662"
      ]
     },
     "execution_count": 25,
     "metadata": {},
     "output_type": "execute_result"
    }
   ],
   "source": [
    "sbn.loc[(sbn['Year']==2014) & (sbn['State']=='CA')].sort_values('Count',ascending=False).iloc[0:5]"
   ]
  },
  {
   "cell_type": "markdown",
   "id": "cf0e91c0-a1a7-4383-83ca-d50383276dd4",
   "metadata": {},
   "source": [
    "What is the most popular baby names in California, by year and gender?"
   ]
  },
  {
   "cell_type": "code",
   "execution_count": 10,
   "id": "ee8c22e6-7b0f-4764-9416-27c637c04c0f",
   "metadata": {},
   "outputs": [],
   "source": [
    "def popular(s):\n",
    "    \"\"\"\n",
    "    Receives s (Pandas Series), containing baby names in order of count (highest to lowest).\n",
    "    Returns the most popular name\n",
    "    \"\"\"\n",
    "    return s.iloc[0]"
   ]
  },
  {
   "cell_type": "code",
   "execution_count": 11,
   "id": "e2f18163-4aa8-4a38-9da7-1c0810cec8c4",
   "metadata": {},
   "outputs": [],
   "source": [
    "ca_grouped = sbn.loc[sbn['State']=='CA'].sort_values('Count',ascending=False).groupby(['Year','Gender']).agg(popular)"
   ]
  },
  {
   "cell_type": "code",
   "execution_count": 12,
   "id": "e0c7da07-71f8-4cae-9ec6-fe5acc94a598",
   "metadata": {
    "scrolled": true
   },
   "outputs": [
    {
     "data": {
      "text/html": [
       "<div>\n",
       "<style scoped>\n",
       "    .dataframe tbody tr th:only-of-type {\n",
       "        vertical-align: middle;\n",
       "    }\n",
       "\n",
       "    .dataframe tbody tr th {\n",
       "        vertical-align: top;\n",
       "    }\n",
       "\n",
       "    .dataframe thead th {\n",
       "        text-align: right;\n",
       "    }\n",
       "</style>\n",
       "<table border=\"1\" class=\"dataframe\">\n",
       "  <thead>\n",
       "    <tr style=\"text-align: right;\">\n",
       "      <th></th>\n",
       "      <th></th>\n",
       "      <th>Id</th>\n",
       "      <th>Name</th>\n",
       "      <th>State</th>\n",
       "      <th>Count</th>\n",
       "    </tr>\n",
       "    <tr>\n",
       "      <th>Year</th>\n",
       "      <th>Gender</th>\n",
       "      <th></th>\n",
       "      <th></th>\n",
       "      <th></th>\n",
       "      <th></th>\n",
       "    </tr>\n",
       "  </thead>\n",
       "  <tbody>\n",
       "    <tr>\n",
       "      <th rowspan=\"2\" valign=\"top\">1910</th>\n",
       "      <th>F</th>\n",
       "      <td>356018</td>\n",
       "      <td>Mary</td>\n",
       "      <td>CA</td>\n",
       "      <td>295</td>\n",
       "    </tr>\n",
       "    <tr>\n",
       "      <th>M</th>\n",
       "      <td>565480</td>\n",
       "      <td>John</td>\n",
       "      <td>CA</td>\n",
       "      <td>237</td>\n",
       "    </tr>\n",
       "    <tr>\n",
       "      <th rowspan=\"2\" valign=\"top\">1911</th>\n",
       "      <th>F</th>\n",
       "      <td>356251</td>\n",
       "      <td>Mary</td>\n",
       "      <td>CA</td>\n",
       "      <td>390</td>\n",
       "    </tr>\n",
       "    <tr>\n",
       "      <th>M</th>\n",
       "      <td>565610</td>\n",
       "      <td>John</td>\n",
       "      <td>CA</td>\n",
       "      <td>214</td>\n",
       "    </tr>\n",
       "    <tr>\n",
       "      <th>1912</th>\n",
       "      <th>F</th>\n",
       "      <td>356502</td>\n",
       "      <td>Mary</td>\n",
       "      <td>CA</td>\n",
       "      <td>534</td>\n",
       "    </tr>\n",
       "    <tr>\n",
       "      <th>...</th>\n",
       "      <th>...</th>\n",
       "      <td>...</td>\n",
       "      <td>...</td>\n",
       "      <td>...</td>\n",
       "      <td>...</td>\n",
       "    </tr>\n",
       "    <tr>\n",
       "      <th>2012</th>\n",
       "      <th>M</th>\n",
       "      <td>701517</td>\n",
       "      <td>Jacob</td>\n",
       "      <td>CA</td>\n",
       "      <td>2971</td>\n",
       "    </tr>\n",
       "    <tr>\n",
       "      <th rowspan=\"2\" valign=\"top\">2013</th>\n",
       "      <th>F</th>\n",
       "      <td>557545</td>\n",
       "      <td>Sophia</td>\n",
       "      <td>CA</td>\n",
       "      <td>3451</td>\n",
       "    </tr>\n",
       "    <tr>\n",
       "      <th>M</th>\n",
       "      <td>704421</td>\n",
       "      <td>Jacob</td>\n",
       "      <td>CA</td>\n",
       "      <td>2879</td>\n",
       "    </tr>\n",
       "    <tr>\n",
       "      <th rowspan=\"2\" valign=\"top\">2014</th>\n",
       "      <th>F</th>\n",
       "      <td>561496</td>\n",
       "      <td>Sophia</td>\n",
       "      <td>CA</td>\n",
       "      <td>3162</td>\n",
       "    </tr>\n",
       "    <tr>\n",
       "      <th>M</th>\n",
       "      <td>707312</td>\n",
       "      <td>Noah</td>\n",
       "      <td>CA</td>\n",
       "      <td>2761</td>\n",
       "    </tr>\n",
       "  </tbody>\n",
       "</table>\n",
       "<p>210 rows × 4 columns</p>\n",
       "</div>"
      ],
      "text/plain": [
       "                 Id    Name State  Count\n",
       "Year Gender                             \n",
       "1910 F       356018    Mary    CA    295\n",
       "     M       565480    John    CA    237\n",
       "1911 F       356251    Mary    CA    390\n",
       "     M       565610    John    CA    214\n",
       "1912 F       356502    Mary    CA    534\n",
       "...             ...     ...   ...    ...\n",
       "2012 M       701517   Jacob    CA   2971\n",
       "2013 F       557545  Sophia    CA   3451\n",
       "     M       704421   Jacob    CA   2879\n",
       "2014 F       561496  Sophia    CA   3162\n",
       "     M       707312    Noah    CA   2761\n",
       "\n",
       "[210 rows x 4 columns]"
      ]
     },
     "execution_count": 12,
     "metadata": {},
     "output_type": "execute_result"
    }
   ],
   "source": [
    "ca_grouped"
   ]
  },
  {
   "cell_type": "markdown",
   "id": "7966bc27-3504-4f32-b2eb-6c748f86a4f6",
   "metadata": {},
   "source": [
    "How often does your first name occur across the years in the US among baby names?"
   ]
  },
  {
   "cell_type": "code",
   "execution_count": 16,
   "id": "cf3f3f24-e7ab-40f9-a486-154b2c682cfa",
   "metadata": {},
   "outputs": [],
   "source": [
    "us_josh = ubn.loc[ubn['Name']=='Joshua',:]"
   ]
  },
  {
   "cell_type": "code",
   "execution_count": 20,
   "id": "017d384e-2e2b-46af-91c1-dae6fe9345e4",
   "metadata": {},
   "outputs": [
    {
     "data": {
      "text/plain": [
       "<Axes: ylabel='Year'>"
      ]
     },
     "execution_count": 20,
     "metadata": {},
     "output_type": "execute_result"
    },
    {
     "data": {
      "image/png": "[encoded data removed]",
      "text/plain": [
       "<Figure size 640x480 with 1 Axes>"
      ]
     },
     "metadata": {},
     "output_type": "display_data"
    }
   ],
   "source": [
    "us_josh.plot.barh(x='Year',y='Count')"
   ]
  }
 ],
 "metadata": {
  "kernelspec": {
   "display_name": "Python 3 (ipykernel)",
   "language": "python",
   "name": "python3"
  },
  "language_info": {
   "codemirror_mode": {
    "name": "ipython",
    "version": 3
   },
   "file_extension": ".py",
   "mimetype": "text/x-python",
   "name": "python",
   "nbconvert_exporter": "python",
   "pygments_lexer": "ipython3",
   "version": "3.11.5"
  }
 },
 "nbformat": 4,
 "nbformat_minor": 5
}
