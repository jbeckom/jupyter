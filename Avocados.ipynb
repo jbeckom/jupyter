{
 "cells": [
  {
   "cell_type": "code",
   "execution_count": 4,
   "id": "d9329a38-846f-430a-976d-b9667ee16864",
   "metadata": {},
   "outputs": [],
   "source": [
    "import pandas as pd\n",
    "import matplotlib.pyplot as plt\n",
    "import seaborn as sns\n",
    "import numpy as np"
   ]
  },
  {
   "cell_type": "code",
   "execution_count": 5,
   "id": "148f1760-58de-4038-a90b-372da9644538",
   "metadata": {},
   "outputs": [],
   "source": [
    "avocado = pd.read_csv('avocado_info.csv')"
   ]
  },
  {
   "cell_type": "code",
   "execution_count": 6,
   "id": "6e9a515f-2298-4904-8265-a1f4dcd04a6b",
   "metadata": {},
   "outputs": [
    {
     "data": {
      "text/html": [
       "<div>\n",
       "<style scoped>\n",
       "    .dataframe tbody tr th:only-of-type {\n",
       "        vertical-align: middle;\n",
       "    }\n",
       "\n",
       "    .dataframe tbody tr th {\n",
       "        vertical-align: top;\n",
       "    }\n",
       "\n",
       "    .dataframe thead th {\n",
       "        text-align: right;\n",
       "    }\n",
       "</style>\n",
       "<table border=\"1\" class=\"dataframe\">\n",
       "  <thead>\n",
       "    <tr style=\"text-align: right;\">\n",
       "      <th></th>\n",
       "      <th>Growth Duration</th>\n",
       "      <th>Fertilizer</th>\n",
       "    </tr>\n",
       "  </thead>\n",
       "  <tbody>\n",
       "    <tr>\n",
       "      <th>0</th>\n",
       "      <td>98</td>\n",
       "      <td>True</td>\n",
       "    </tr>\n",
       "    <tr>\n",
       "      <th>1</th>\n",
       "      <td>108</td>\n",
       "      <td>False</td>\n",
       "    </tr>\n",
       "    <tr>\n",
       "      <th>2</th>\n",
       "      <td>129</td>\n",
       "      <td>False</td>\n",
       "    </tr>\n",
       "    <tr>\n",
       "      <th>3</th>\n",
       "      <td>116</td>\n",
       "      <td>False</td>\n",
       "    </tr>\n",
       "    <tr>\n",
       "      <th>4</th>\n",
       "      <td>111</td>\n",
       "      <td>False</td>\n",
       "    </tr>\n",
       "  </tbody>\n",
       "</table>\n",
       "</div>"
      ],
      "text/plain": [
       "   Growth Duration  Fertilizer\n",
       "0               98        True\n",
       "1              108       False\n",
       "2              129       False\n",
       "3              116       False\n",
       "4              111       False"
      ]
     },
     "execution_count": 6,
     "metadata": {},
     "output_type": "execute_result"
    }
   ],
   "source": [
    "avocado.head()"
   ]
  },
  {
   "cell_type": "code",
   "execution_count": 9,
   "id": "6ef127bf-32d8-4070-850b-f68b86f1fa6c",
   "metadata": {},
   "outputs": [
    {
     "data": {
      "image/png": "[encoded data removed]",
      "text/plain": [
       "<Figure size 640x480 with 1 Axes>"
      ]
     },
     "metadata": {},
     "output_type": "display_data"
    }
   ],
   "source": [
    "# hypothesis test\n",
    "sns.histplot(data=avocado,x='Growth Duration',hue='Fertilizer')\n",
    "plt.legend(['Fertilized','Not Fertilized'])\n",
    "plt.show()"
   ]
  },
  {
   "cell_type": "code",
   "execution_count": 12,
   "id": "a637d707-b09d-4d90-a727-a86e28de57d8",
   "metadata": {},
   "outputs": [
    {
     "data": {
      "text/plain": [
       "-9.266142572024918"
      ]
     },
     "execution_count": 12,
     "metadata": {},
     "output_type": "execute_result"
    }
   ],
   "source": [
    "#permutation test\n",
    "fertilized = avocado.loc[avocado.Fertilizer==True]\n",
    "not_fertilized = avocado.loc[avocado.Fertilizer==False]\n",
    "\n",
    "observed = np.mean(fertilized['Growth Duration']) - np.mean(not_fertilized['Growth Duration'])\n",
    "observed"
   ]
  },
  {
   "cell_type": "code",
   "execution_count": 16,
   "id": "bc8c6aa0-fd89-4035-9c9a-f93895d5bc5d",
   "metadata": {},
   "outputs": [
    {
     "data": {
      "text/plain": [
       "0       104\n",
       "1       125\n",
       "2       124\n",
       "3       144\n",
       "4       140\n",
       "       ... \n",
       "1169     86\n",
       "1170     55\n",
       "1171    126\n",
       "1172     98\n",
       "1173    108\n",
       "Name: Growth Duration, Length: 1174, dtype: int64"
      ]
     },
     "execution_count": 16,
     "metadata": {},
     "output_type": "execute_result"
    }
   ],
   "source": [
    "avocado['Growth Duration'].sample(frac=1).reset_index(drop=True)"
   ]
  },
  {
   "cell_type": "code",
   "execution_count": 17,
   "id": "538e4273-dca4-481e-9626-66573833e97a",
   "metadata": {},
   "outputs": [],
   "source": [
    "def perm(data):\n",
    "    return data.sample(frac=1).reset_index(drop=True)"
   ]
  },
  {
   "cell_type": "code",
   "execution_count": 20,
   "id": "405751a2-a8a0-46dc-a1e3-e177f57f5645",
   "metadata": {},
   "outputs": [],
   "source": [
    "sim = np.array([])\n",
    "reps = 10000\n",
    "for i in range(reps):\n",
    "    perm_info = perm(avocado['Growth Duration'])\n",
    "    df = pd.DataFrame({'Permuted Duration':perm_info,'Fertilizer':avocado.Fertilizer})\n",
    "    fertilized = df.loc[df.Fertilizer==True,'Permuted Duration']\n",
    "    not_fertilized = df.loc[df.Fertilizer==False,'Permuted Duration']\n",
    "    stat = np.mean(fertilized) - np.mean(not_fertilized)\n",
    "    sim = np.append(sim,stat)"
   ]
  },
  {
   "cell_type": "code",
   "execution_count": 21,
   "id": "db05c1dd-7c97-4428-9bc6-ac913999455e",
   "metadata": {},
   "outputs": [
    {
     "data": {
      "text/plain": [
       "array([-2.34058534, -0.27651172,  1.29032406, ..., -0.91326234,\n",
       "       -1.32822341,  0.97194875])"
      ]
     },
     "execution_count": 21,
     "metadata": {},
     "output_type": "execute_result"
    }
   ],
   "source": [
    "sim"
   ]
  },
  {
   "cell_type": "code",
   "execution_count": 22,
   "id": "278eefd5-cd8e-4e45-8c96-9c115432df32",
   "metadata": {},
   "outputs": [
    {
     "data": {
      "text/plain": [
       "0.0"
      ]
     },
     "execution_count": 22,
     "metadata": {},
     "output_type": "execute_result"
    }
   ],
   "source": [
    "np.count_nonzero(sim <= observed)/reps"
   ]
  },
  {
   "cell_type": "code",
   "execution_count": 26,
   "id": "17484df0-06c2-423d-a8f7-32dcafd092c1",
   "metadata": {},
   "outputs": [],
   "source": [
    "#confidence interval\n",
    "# np.random.choice(fertilized,size=len(fertilized))\n",
    "# np.random.choice(not_fertilized,size=len(not_fertilized))\n",
    "def resample(og_sample):\n",
    "    return np.random.choice(og_sample,size=len(og_sample))"
   ]
  },
  {
   "cell_type": "code",
   "execution_count": 29,
   "id": "bd5a1c29-d716-42ff-b3a2-589e6bbf7c7e",
   "metadata": {},
   "outputs": [],
   "source": [
    "def bootstrap(og_sample,reps):\n",
    "    means = np.array([])\n",
    "    for i in range(reps):\n",
    "        new_sample = resample(og_sample)\n",
    "        new_mean = np.mean(new_sample)\n",
    "        means = np.append(means,new_mean)\n",
    "    return means"
   ]
  },
  {
   "cell_type": "code",
   "execution_count": 30,
   "id": "dc537649-56c4-4f99-b7a0-4f32d2ead3c9",
   "metadata": {},
   "outputs": [],
   "source": [
    "fertilized_means = bootstrap(fertilized,10000)\n",
    "not_fertilized_means = bootstrap(not_fertilized,10000)\n",
    "estimates = fertilized_means - not_fertilized_means"
   ]
  },
  {
   "cell_type": "code",
   "execution_count": 31,
   "id": "39bcc2b8-db99-4b7c-bb78-8475a897a293",
   "metadata": {},
   "outputs": [
    {
     "data": {
      "text/plain": [
       "array([ 0.37082134,  1.67473833,  1.29376114, ..., -0.16348401,\n",
       "        2.49152764,  1.25298841])"
      ]
     },
     "execution_count": 31,
     "metadata": {},
     "output_type": "execute_result"
    }
   ],
   "source": [
    "estimates"
   ]
  },
  {
   "cell_type": "code",
   "execution_count": 33,
   "id": "79a9c0f6-c557-426c-8f45-06c83e286c92",
   "metadata": {},
   "outputs": [
    {
     "data": {
      "image/png": "[encoded data removed]",
      "text/plain": [
       "<Figure size 640x480 with 1 Axes>"
      ]
     },
     "metadata": {},
     "output_type": "display_data"
    }
   ],
   "source": [
    "sns.histplot(estimates)\n",
    "plt.show()"
   ]
  },
  {
   "cell_type": "code",
   "execution_count": 34,
   "id": "149fc14f-1caf-4bc6-8945-ca49ce0359ae",
   "metadata": {},
   "outputs": [
    {
     "data": {
      "text/plain": [
       "(-1.2158169172875102, 3.154873166049641)"
      ]
     },
     "execution_count": 34,
     "metadata": {},
     "output_type": "execute_result"
    }
   ],
   "source": [
    "(np.percentile(estimates,2.5),np.percentile(estimates,97.5))"
   ]
  }
 ],
 "metadata": {
  "kernelspec": {
   "display_name": "Python 3 (ipykernel)",
   "language": "python",
   "name": "python3"
  },
  "language_info": {
   "codemirror_mode": {
    "name": "ipython",
    "version": 3
   },
   "file_extension": ".py",
   "mimetype": "text/x-python",
   "name": "python",
   "nbconvert_exporter": "python",
   "pygments_lexer": "ipython3",
   "version": "3.11.5"
  }
 },
 "nbformat": 4,
 "nbformat_minor": 5
}
