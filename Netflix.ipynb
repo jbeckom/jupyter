{
 "cells": [
  {
   "cell_type": "code",
   "execution_count": 2,
   "id": "e6b40c30-a315-43f1-8e73-09dbeef59d1a",
   "metadata": {},
   "outputs": [],
   "source": [
    "import pandas as pd"
   ]
  },
  {
   "cell_type": "code",
   "execution_count": 3,
   "id": "87ebd4ba-ead9-49d6-9187-75a9706abaf5",
   "metadata": {},
   "outputs": [],
   "source": [
    "nf = pd.read_csv('netflix_data.csv')"
   ]
  },
  {
   "cell_type": "code",
   "execution_count": 5,
   "id": "22fcf5fe-0b27-4757-8d06-2126f015d958",
   "metadata": {},
   "outputs": [
    {
     "data": {
      "text/plain": [
       "(7787, 11)"
      ]
     },
     "execution_count": 5,
     "metadata": {},
     "output_type": "execute_result"
    }
   ],
   "source": [
    "#get the shape of the dataframe\n",
    "nf.shape"
   ]
  },
  {
   "cell_type": "code",
   "execution_count": 6,
   "id": "553704c7-47b4-4c2a-8e5c-d977d1f4dec7",
   "metadata": {},
   "outputs": [
    {
     "data": {
      "text/html": [
       "<div>\n",
       "<style scoped>\n",
       "    .dataframe tbody tr th:only-of-type {\n",
       "        vertical-align: middle;\n",
       "    }\n",
       "\n",
       "    .dataframe tbody tr th {\n",
       "        vertical-align: top;\n",
       "    }\n",
       "\n",
       "    .dataframe thead th {\n",
       "        text-align: right;\n",
       "    }\n",
       "</style>\n",
       "<table border=\"1\" class=\"dataframe\">\n",
       "  <thead>\n",
       "    <tr style=\"text-align: right;\">\n",
       "      <th></th>\n",
       "      <th>show_id</th>\n",
       "      <th>type</th>\n",
       "      <th>title</th>\n",
       "      <th>director</th>\n",
       "      <th>cast</th>\n",
       "      <th>country</th>\n",
       "      <th>date_added</th>\n",
       "      <th>release_year</th>\n",
       "      <th>rating</th>\n",
       "      <th>duration</th>\n",
       "      <th>genres</th>\n",
       "    </tr>\n",
       "  </thead>\n",
       "  <tbody>\n",
       "    <tr>\n",
       "      <th>0</th>\n",
       "      <td>s1</td>\n",
       "      <td>TV Show</td>\n",
       "      <td>3%</td>\n",
       "      <td>NaN</td>\n",
       "      <td>João Miguel, Bianca Comparato, Michel Gomes, R...</td>\n",
       "      <td>Brazil</td>\n",
       "      <td>14-Aug-20</td>\n",
       "      <td>2020</td>\n",
       "      <td>TV-MA</td>\n",
       "      <td>4</td>\n",
       "      <td>International TV Shows, TV Dramas, TV Sci-Fi &amp;...</td>\n",
       "    </tr>\n",
       "    <tr>\n",
       "      <th>1</th>\n",
       "      <td>s10</td>\n",
       "      <td>Movie</td>\n",
       "      <td>1920</td>\n",
       "      <td>Vikram Bhatt</td>\n",
       "      <td>Rajneesh Duggal, Adah Sharma, Indraneil Sengup...</td>\n",
       "      <td>India</td>\n",
       "      <td>15-Dec-17</td>\n",
       "      <td>2008</td>\n",
       "      <td>TV-MA</td>\n",
       "      <td>143</td>\n",
       "      <td>Horror Movies, International Movies, Thrillers</td>\n",
       "    </tr>\n",
       "    <tr>\n",
       "      <th>2</th>\n",
       "      <td>s100</td>\n",
       "      <td>Movie</td>\n",
       "      <td>3 Heroines</td>\n",
       "      <td>Iman Brotoseno</td>\n",
       "      <td>Reza Rahadian, Bunga Citra Lestari, Tara Basro...</td>\n",
       "      <td>Indonesia</td>\n",
       "      <td>05-Jan-19</td>\n",
       "      <td>2016</td>\n",
       "      <td>TV-PG</td>\n",
       "      <td>124</td>\n",
       "      <td>Dramas, International Movies, Sports Movies</td>\n",
       "    </tr>\n",
       "    <tr>\n",
       "      <th>3</th>\n",
       "      <td>s1000</td>\n",
       "      <td>Movie</td>\n",
       "      <td>Blue Mountain State: The Rise of Thadland</td>\n",
       "      <td>Lev L. Spiro</td>\n",
       "      <td>Alan Ritchson, Darin Brooks, James Cade, Rob R...</td>\n",
       "      <td>United States</td>\n",
       "      <td>01-Mar-16</td>\n",
       "      <td>2016</td>\n",
       "      <td>R</td>\n",
       "      <td>90</td>\n",
       "      <td>Comedies</td>\n",
       "    </tr>\n",
       "    <tr>\n",
       "      <th>4</th>\n",
       "      <td>s1001</td>\n",
       "      <td>TV Show</td>\n",
       "      <td>Blue Planet II</td>\n",
       "      <td>NaN</td>\n",
       "      <td>David Attenborough</td>\n",
       "      <td>United Kingdom</td>\n",
       "      <td>03-Dec-18</td>\n",
       "      <td>2017</td>\n",
       "      <td>TV-G</td>\n",
       "      <td>1</td>\n",
       "      <td>British TV Shows, Docuseries, Science &amp; Nature TV</td>\n",
       "    </tr>\n",
       "  </tbody>\n",
       "</table>\n",
       "</div>"
      ],
      "text/plain": [
       "  show_id     type                                      title        director  \\\n",
       "0      s1  TV Show                                         3%             NaN   \n",
       "1     s10    Movie                                       1920    Vikram Bhatt   \n",
       "2    s100    Movie                                 3 Heroines  Iman Brotoseno   \n",
       "3   s1000    Movie  Blue Mountain State: The Rise of Thadland    Lev L. Spiro   \n",
       "4   s1001  TV Show                             Blue Planet II             NaN   \n",
       "\n",
       "                                                cast         country  \\\n",
       "0  João Miguel, Bianca Comparato, Michel Gomes, R...          Brazil   \n",
       "1  Rajneesh Duggal, Adah Sharma, Indraneil Sengup...           India   \n",
       "2  Reza Rahadian, Bunga Citra Lestari, Tara Basro...       Indonesia   \n",
       "3  Alan Ritchson, Darin Brooks, James Cade, Rob R...   United States   \n",
       "4                                 David Attenborough  United Kingdom   \n",
       "\n",
       "  date_added  release_year rating  duration  \\\n",
       "0  14-Aug-20          2020  TV-MA         4   \n",
       "1  15-Dec-17          2008  TV-MA       143   \n",
       "2  05-Jan-19          2016  TV-PG       124   \n",
       "3  01-Mar-16          2016      R        90   \n",
       "4  03-Dec-18          2017   TV-G         1   \n",
       "\n",
       "                                              genres  \n",
       "0  International TV Shows, TV Dramas, TV Sci-Fi &...  \n",
       "1     Horror Movies, International Movies, Thrillers  \n",
       "2        Dramas, International Movies, Sports Movies  \n",
       "3                                           Comedies  \n",
       "4  British TV Shows, Docuseries, Science & Nature TV  "
      ]
     },
     "execution_count": 6,
     "metadata": {},
     "output_type": "execute_result"
    }
   ],
   "source": [
    "#display the first few rows\n",
    "nf.head()"
   ]
  },
  {
   "cell_type": "code",
   "execution_count": 9,
   "id": "57ccafdc-82ca-4122-9385-0c46add2b606",
   "metadata": {},
   "outputs": [
    {
     "data": {
      "text/html": [
       "<div>\n",
       "<style scoped>\n",
       "    .dataframe tbody tr th:only-of-type {\n",
       "        vertical-align: middle;\n",
       "    }\n",
       "\n",
       "    .dataframe tbody tr th {\n",
       "        vertical-align: top;\n",
       "    }\n",
       "\n",
       "    .dataframe thead th {\n",
       "        text-align: right;\n",
       "    }\n",
       "</style>\n",
       "<table border=\"1\" class=\"dataframe\">\n",
       "  <thead>\n",
       "    <tr style=\"text-align: right;\">\n",
       "      <th></th>\n",
       "      <th>show_id</th>\n",
       "      <th>type</th>\n",
       "      <th>title</th>\n",
       "      <th>cast</th>\n",
       "      <th>country</th>\n",
       "      <th>date_added</th>\n",
       "      <th>release_year</th>\n",
       "      <th>rating</th>\n",
       "      <th>duration</th>\n",
       "      <th>genres</th>\n",
       "    </tr>\n",
       "    <tr>\n",
       "      <th>director</th>\n",
       "      <th></th>\n",
       "      <th></th>\n",
       "      <th></th>\n",
       "      <th></th>\n",
       "      <th></th>\n",
       "      <th></th>\n",
       "      <th></th>\n",
       "      <th></th>\n",
       "      <th></th>\n",
       "      <th></th>\n",
       "    </tr>\n",
       "  </thead>\n",
       "  <tbody>\n",
       "    <tr>\n",
       "      <th>A. L. Vijay</th>\n",
       "      <td>2</td>\n",
       "      <td>2</td>\n",
       "      <td>2</td>\n",
       "      <td>2</td>\n",
       "      <td>2</td>\n",
       "      <td>2</td>\n",
       "      <td>2</td>\n",
       "      <td>2</td>\n",
       "      <td>2</td>\n",
       "      <td>2</td>\n",
       "    </tr>\n",
       "    <tr>\n",
       "      <th>A. Raajdheep</th>\n",
       "      <td>1</td>\n",
       "      <td>1</td>\n",
       "      <td>1</td>\n",
       "      <td>1</td>\n",
       "      <td>1</td>\n",
       "      <td>1</td>\n",
       "      <td>1</td>\n",
       "      <td>1</td>\n",
       "      <td>1</td>\n",
       "      <td>1</td>\n",
       "    </tr>\n",
       "    <tr>\n",
       "      <th>A. Salaam</th>\n",
       "      <td>1</td>\n",
       "      <td>1</td>\n",
       "      <td>1</td>\n",
       "      <td>1</td>\n",
       "      <td>1</td>\n",
       "      <td>1</td>\n",
       "      <td>1</td>\n",
       "      <td>1</td>\n",
       "      <td>1</td>\n",
       "      <td>1</td>\n",
       "    </tr>\n",
       "    <tr>\n",
       "      <th>A.R. Murugadoss</th>\n",
       "      <td>2</td>\n",
       "      <td>2</td>\n",
       "      <td>2</td>\n",
       "      <td>2</td>\n",
       "      <td>1</td>\n",
       "      <td>2</td>\n",
       "      <td>2</td>\n",
       "      <td>2</td>\n",
       "      <td>2</td>\n",
       "      <td>2</td>\n",
       "    </tr>\n",
       "    <tr>\n",
       "      <th>Aadish Keluskar</th>\n",
       "      <td>1</td>\n",
       "      <td>1</td>\n",
       "      <td>1</td>\n",
       "      <td>1</td>\n",
       "      <td>1</td>\n",
       "      <td>1</td>\n",
       "      <td>1</td>\n",
       "      <td>1</td>\n",
       "      <td>1</td>\n",
       "      <td>1</td>\n",
       "    </tr>\n",
       "  </tbody>\n",
       "</table>\n",
       "</div>"
      ],
      "text/plain": [
       "                 show_id  type  title  cast  country  date_added  \\\n",
       "director                                                           \n",
       "A. L. Vijay            2     2      2     2        2           2   \n",
       "A. Raajdheep           1     1      1     1        1           1   \n",
       "A. Salaam              1     1      1     1        1           1   \n",
       "A.R. Murugadoss        2     2      2     2        1           2   \n",
       "Aadish Keluskar        1     1      1     1        1           1   \n",
       "\n",
       "                 release_year  rating  duration  genres  \n",
       "director                                                 \n",
       "A. L. Vijay                 2       2         2       2  \n",
       "A. Raajdheep                1       1         1       1  \n",
       "A. Salaam                   1       1         1       1  \n",
       "A.R. Murugadoss             2       2         2       2  \n",
       "Aadish Keluskar             1       1         1       1  "
      ]
     },
     "execution_count": 9,
     "metadata": {},
     "output_type": "execute_result"
    }
   ],
   "source": [
    "#group by director and get first few rows\n",
    "nf.groupby('director').count().head()"
   ]
  },
  {
   "cell_type": "code",
   "execution_count": 10,
   "id": "bf986751-3567-4ba3-9ed2-a0173b280811",
   "metadata": {
    "scrolled": true
   },
   "outputs": [
    {
     "data": {
      "text/plain": [
       "4298    1925\n",
       "4402    1942\n",
       "5688    1942\n",
       "7423    1943\n",
       "7353    1943\n",
       "        ... \n",
       "4562    2021\n",
       "1937    2021\n",
       "6087    2021\n",
       "7384    2021\n",
       "3528    2021\n",
       "Name: release_year, Length: 7787, dtype: int64"
      ]
     },
     "execution_count": 10,
     "metadata": {},
     "output_type": "execute_result"
    }
   ],
   "source": [
    "#sort values in release year in ascending order\n",
    "nf['release_year'].sort_values()"
   ]
  },
  {
   "cell_type": "code",
   "execution_count": 23,
   "id": "9e5bf1c7-f9f1-4a9f-bc1d-579fa9fdd189",
   "metadata": {},
   "outputs": [
    {
     "data": {
      "text/plain": [
       "genres\n",
       "International Movies            2437\n",
       "Dramas                          2106\n",
       "Comedies                        1471\n",
       "International TV Shows          1199\n",
       "Documentaries                    786\n",
       "Action & Adventure               721\n",
       "TV Dramas                        704\n",
       "Independent Movies               673\n",
       "Children & Family Movies         532\n",
       "Romantic Movies                  531\n",
       "TV Comedies                      525\n",
       "Thrillers                        491\n",
       "Crime TV Shows                   427\n",
       "Kids' TV                         414\n",
       "Docuseries                       353\n",
       "Romantic TV Shows                333\n",
       "Stand-Up Comedy                  329\n",
       "Music & Musicals                 321\n",
       "Horror Movies                    312\n",
       "British TV Shows                 232\n",
       "Reality TV                       222\n",
       "Sci-Fi & Fantasy                 218\n",
       "Sports Movies                    196\n",
       "Korean TV Shows                  150\n",
       "TV Action & Adventure            150\n",
       "Anime Series                     148\n",
       "Spanish-Language TV Shows        147\n",
       "Classic Movies                   103\n",
       "TV Mysteries                      90\n",
       "LGBTQ Movies                      90\n",
       "Science & Nature TV               85\n",
       "TV Sci-Fi & Fantasy               76\n",
       "TV Horror                         69\n",
       "Teen TV Shows                     60\n",
       "Cult Movies                       59\n",
       "Anime Features                    57\n",
       "Faith & Spirituality              57\n",
       "Movies                            56\n",
       "Stand-Up Comedy & Talk Shows      52\n",
       "TV Thrillers                      50\n",
       "Classic & Cult TV                 27\n",
       "TV Shows                          12\n",
       "Name: count, dtype: int64"
      ]
     },
     "execution_count": 23,
     "metadata": {},
     "output_type": "execute_result"
    }
   ],
   "source": [
    "# counts by (individual) genres\n",
    "nf.genres.str.split(', ').explode().value_counts()"
   ]
  },
  {
   "cell_type": "code",
   "execution_count": 30,
   "id": "80143e43-805e-46f5-8290-3ab35d5f3c2f",
   "metadata": {
    "scrolled": true
   },
   "outputs": [
    {
     "data": {
      "text/plain": [
       "rating\n",
       "TV-MA       2863\n",
       "TV-14       1931\n",
       "TV-PG        806\n",
       "R            665\n",
       "PG-13        386\n",
       "TV-Y         280\n",
       "TV-Y7        271\n",
       "PG           247\n",
       "TV-G         194\n",
       "NR            84\n",
       "G             39\n",
       "TV-Y7-FV       6\n",
       "UR             5\n",
       "NC-17          3\n",
       "Name: count, dtype: int64"
      ]
     },
     "execution_count": 30,
     "metadata": {},
     "output_type": "execute_result"
    }
   ],
   "source": [
    "#count by ratings\n",
    "nf['rating'].value_counts()"
   ]
  },
  {
   "cell_type": "code",
   "execution_count": 31,
   "id": "c38fd9dc-083c-4688-8d24-8a3ce2174990",
   "metadata": {},
   "outputs": [
    {
     "data": {
      "text/plain": [
       "show_id            0\n",
       "type               0\n",
       "title              0\n",
       "director        2389\n",
       "cast             718\n",
       "country          507\n",
       "date_added        10\n",
       "release_year       0\n",
       "rating             7\n",
       "duration           0\n",
       "genres             0\n",
       "dtype: int64"
      ]
     },
     "execution_count": 31,
     "metadata": {},
     "output_type": "execute_result"
    }
   ],
   "source": [
    "#number of missing values for each attribute\n",
    "nf.isna().sum()"
   ]
  },
  {
   "cell_type": "code",
   "execution_count": 33,
   "id": "bc1beab1-a87a-4d01-87a5-69a44e62e294",
   "metadata": {},
   "outputs": [
    {
     "data": {
      "text/plain": [
       "3631"
      ]
     },
     "execution_count": 33,
     "metadata": {},
     "output_type": "execute_result"
    }
   ],
   "source": [
    "#total number of missing values\n",
    "nf.isna().sum().sum()"
   ]
  },
  {
   "cell_type": "code",
   "execution_count": 34,
   "id": "e05fbb8d-bdef-47f7-8b27-eb509a00eec5",
   "metadata": {},
   "outputs": [
    {
     "data": {
      "text/plain": [
       "46.628997046359316"
      ]
     },
     "execution_count": 34,
     "metadata": {},
     "output_type": "execute_result"
    }
   ],
   "source": [
    "#percentage of rows with missing values\n",
    "(nf.isna().sum().sum() / nf.shape[0])*100"
   ]
  },
  {
   "cell_type": "code",
   "execution_count": 37,
   "id": "087c2f25-6b25-4d31-acbe-d5e0a5015577",
   "metadata": {},
   "outputs": [
    {
     "data": {
      "text/plain": [
       "(4808, 11)"
      ]
     },
     "execution_count": 37,
     "metadata": {},
     "output_type": "execute_result"
    }
   ],
   "source": [
    "#drop rows containing missing values, get shape after removal\n",
    "nf_clean = nf.dropna()\n",
    "nf_clean.shape"
   ]
  },
  {
   "cell_type": "code",
   "execution_count": 39,
   "id": "cbef7329-9caf-462b-882d-ede1b8f88ab2",
   "metadata": {},
   "outputs": [
    {
     "data": {
      "text/plain": [
       "0"
      ]
     },
     "execution_count": 39,
     "metadata": {},
     "output_type": "execute_result"
    }
   ],
   "source": [
    "#investigate duplicates\n",
    "nf.duplicated().sum()"
   ]
  }
 ],
 "metadata": {
  "kernelspec": {
   "display_name": "Python 3 (ipykernel)",
   "language": "python",
   "name": "python3"
  },
  "language_info": {
   "codemirror_mode": {
    "name": "ipython",
    "version": 3
   },
   "file_extension": ".py",
   "mimetype": "text/x-python",
   "name": "python",
   "nbconvert_exporter": "python",
   "pygments_lexer": "ipython3",
   "version": "3.11.5"
  }
 },
 "nbformat": 4,
 "nbformat_minor": 5
}
